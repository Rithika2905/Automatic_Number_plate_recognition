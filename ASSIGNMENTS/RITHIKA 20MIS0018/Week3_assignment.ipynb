{
  "nbformat": 4,
  "nbformat_minor": 0,
  "metadata": {
    "colab": {
      "provenance": []
    },
    "kernelspec": {
      "name": "python3",
      "display_name": "Python 3"
    },
    "language_info": {
      "name": "python"
    }
  },
  "cells": [
    {
      "cell_type": "markdown",
      "source": [
        "# ***IMPORTING DATASET FROM KAGGLE***"
      ],
      "metadata": {
        "id": "iRZY2uNUyYyj"
      }
    },
    {
      "cell_type": "code",
      "source": [
        "! pip install kaggle\n"
      ],
      "metadata": {
        "colab": {
          "base_uri": "https://localhost:8080/"
        },
        "id": "zZJEcXNTv0zi",
        "outputId": "9904e50b-2884-4e2e-bc01-dd058cfa6573"
      },
      "execution_count": null,
      "outputs": [
        {
          "output_type": "stream",
          "name": "stdout",
          "text": [
            "Looking in indexes: https://pypi.org/simple, https://us-python.pkg.dev/colab-wheels/public/simple/\n",
            "Requirement already satisfied: kaggle in /usr/local/lib/python3.10/dist-packages (1.5.13)\n",
            "Requirement already satisfied: six>=1.10 in /usr/local/lib/python3.10/dist-packages (from kaggle) (1.16.0)\n",
            "Requirement already satisfied: certifi in /usr/local/lib/python3.10/dist-packages (from kaggle) (2022.12.7)\n",
            "Requirement already satisfied: python-dateutil in /usr/local/lib/python3.10/dist-packages (from kaggle) (2.8.2)\n",
            "Requirement already satisfied: requests in /usr/local/lib/python3.10/dist-packages (from kaggle) (2.27.1)\n",
            "Requirement already satisfied: tqdm in /usr/local/lib/python3.10/dist-packages (from kaggle) (4.65.0)\n",
            "Requirement already satisfied: python-slugify in /usr/local/lib/python3.10/dist-packages (from kaggle) (8.0.1)\n",
            "Requirement already satisfied: urllib3 in /usr/local/lib/python3.10/dist-packages (from kaggle) (1.26.15)\n",
            "Requirement already satisfied: text-unidecode>=1.3 in /usr/local/lib/python3.10/dist-packages (from python-slugify->kaggle) (1.3)\n",
            "Requirement already satisfied: charset-normalizer~=2.0.0 in /usr/local/lib/python3.10/dist-packages (from requests->kaggle) (2.0.12)\n",
            "Requirement already satisfied: idna<4,>=2.5 in /usr/local/lib/python3.10/dist-packages (from requests->kaggle) (3.4)\n"
          ]
        }
      ]
    },
    {
      "cell_type": "code",
      "source": [
        "! mkdir ~/.kaggle\n"
      ],
      "metadata": {
        "colab": {
          "base_uri": "https://localhost:8080/"
        },
        "id": "2isAhypCv0uH",
        "outputId": "1f8dedaf-1d1c-42e3-f3de-d307206f9976"
      },
      "execution_count": null,
      "outputs": [
        {
          "output_type": "stream",
          "name": "stdout",
          "text": [
            "mkdir: cannot create directory ‘/root/.kaggle’: File exists\n"
          ]
        }
      ]
    },
    {
      "cell_type": "code",
      "source": [
        "from google.colab import files\n",
        "files.upload()"
      ],
      "metadata": {
        "colab": {
          "base_uri": "https://localhost:8080/",
          "height": 91
        },
        "id": "ajkua2O12Kz4",
        "outputId": "76a413e8-c115-469d-9f98-2cbbd2572f50"
      },
      "execution_count": null,
      "outputs": [
        {
          "output_type": "display_data",
          "data": {
            "text/plain": [
              "<IPython.core.display.HTML object>"
            ],
            "text/html": [
              "\n",
              "     <input type=\"file\" id=\"files-99ead5c6-62fd-4d1c-9029-5bf6824ce3e6\" name=\"files[]\" multiple disabled\n",
              "        style=\"border:none\" />\n",
              "     <output id=\"result-99ead5c6-62fd-4d1c-9029-5bf6824ce3e6\">\n",
              "      Upload widget is only available when the cell has been executed in the\n",
              "      current browser session. Please rerun this cell to enable.\n",
              "      </output>\n",
              "      <script>// Copyright 2017 Google LLC\n",
              "//\n",
              "// Licensed under the Apache License, Version 2.0 (the \"License\");\n",
              "// you may not use this file except in compliance with the License.\n",
              "// You may obtain a copy of the License at\n",
              "//\n",
              "//      http://www.apache.org/licenses/LICENSE-2.0\n",
              "//\n",
              "// Unless required by applicable law or agreed to in writing, software\n",
              "// distributed under the License is distributed on an \"AS IS\" BASIS,\n",
              "// WITHOUT WARRANTIES OR CONDITIONS OF ANY KIND, either express or implied.\n",
              "// See the License for the specific language governing permissions and\n",
              "// limitations under the License.\n",
              "\n",
              "/**\n",
              " * @fileoverview Helpers for google.colab Python module.\n",
              " */\n",
              "(function(scope) {\n",
              "function span(text, styleAttributes = {}) {\n",
              "  const element = document.createElement('span');\n",
              "  element.textContent = text;\n",
              "  for (const key of Object.keys(styleAttributes)) {\n",
              "    element.style[key] = styleAttributes[key];\n",
              "  }\n",
              "  return element;\n",
              "}\n",
              "\n",
              "// Max number of bytes which will be uploaded at a time.\n",
              "const MAX_PAYLOAD_SIZE = 100 * 1024;\n",
              "\n",
              "function _uploadFiles(inputId, outputId) {\n",
              "  const steps = uploadFilesStep(inputId, outputId);\n",
              "  const outputElement = document.getElementById(outputId);\n",
              "  // Cache steps on the outputElement to make it available for the next call\n",
              "  // to uploadFilesContinue from Python.\n",
              "  outputElement.steps = steps;\n",
              "\n",
              "  return _uploadFilesContinue(outputId);\n",
              "}\n",
              "\n",
              "// This is roughly an async generator (not supported in the browser yet),\n",
              "// where there are multiple asynchronous steps and the Python side is going\n",
              "// to poll for completion of each step.\n",
              "// This uses a Promise to block the python side on completion of each step,\n",
              "// then passes the result of the previous step as the input to the next step.\n",
              "function _uploadFilesContinue(outputId) {\n",
              "  const outputElement = document.getElementById(outputId);\n",
              "  const steps = outputElement.steps;\n",
              "\n",
              "  const next = steps.next(outputElement.lastPromiseValue);\n",
              "  return Promise.resolve(next.value.promise).then((value) => {\n",
              "    // Cache the last promise value to make it available to the next\n",
              "    // step of the generator.\n",
              "    outputElement.lastPromiseValue = value;\n",
              "    return next.value.response;\n",
              "  });\n",
              "}\n",
              "\n",
              "/**\n",
              " * Generator function which is called between each async step of the upload\n",
              " * process.\n",
              " * @param {string} inputId Element ID of the input file picker element.\n",
              " * @param {string} outputId Element ID of the output display.\n",
              " * @return {!Iterable<!Object>} Iterable of next steps.\n",
              " */\n",
              "function* uploadFilesStep(inputId, outputId) {\n",
              "  const inputElement = document.getElementById(inputId);\n",
              "  inputElement.disabled = false;\n",
              "\n",
              "  const outputElement = document.getElementById(outputId);\n",
              "  outputElement.innerHTML = '';\n",
              "\n",
              "  const pickedPromise = new Promise((resolve) => {\n",
              "    inputElement.addEventListener('change', (e) => {\n",
              "      resolve(e.target.files);\n",
              "    });\n",
              "  });\n",
              "\n",
              "  const cancel = document.createElement('button');\n",
              "  inputElement.parentElement.appendChild(cancel);\n",
              "  cancel.textContent = 'Cancel upload';\n",
              "  const cancelPromise = new Promise((resolve) => {\n",
              "    cancel.onclick = () => {\n",
              "      resolve(null);\n",
              "    };\n",
              "  });\n",
              "\n",
              "  // Wait for the user to pick the files.\n",
              "  const files = yield {\n",
              "    promise: Promise.race([pickedPromise, cancelPromise]),\n",
              "    response: {\n",
              "      action: 'starting',\n",
              "    }\n",
              "  };\n",
              "\n",
              "  cancel.remove();\n",
              "\n",
              "  // Disable the input element since further picks are not allowed.\n",
              "  inputElement.disabled = true;\n",
              "\n",
              "  if (!files) {\n",
              "    return {\n",
              "      response: {\n",
              "        action: 'complete',\n",
              "      }\n",
              "    };\n",
              "  }\n",
              "\n",
              "  for (const file of files) {\n",
              "    const li = document.createElement('li');\n",
              "    li.append(span(file.name, {fontWeight: 'bold'}));\n",
              "    li.append(span(\n",
              "        `(${file.type || 'n/a'}) - ${file.size} bytes, ` +\n",
              "        `last modified: ${\n",
              "            file.lastModifiedDate ? file.lastModifiedDate.toLocaleDateString() :\n",
              "                                    'n/a'} - `));\n",
              "    const percent = span('0% done');\n",
              "    li.appendChild(percent);\n",
              "\n",
              "    outputElement.appendChild(li);\n",
              "\n",
              "    const fileDataPromise = new Promise((resolve) => {\n",
              "      const reader = new FileReader();\n",
              "      reader.onload = (e) => {\n",
              "        resolve(e.target.result);\n",
              "      };\n",
              "      reader.readAsArrayBuffer(file);\n",
              "    });\n",
              "    // Wait for the data to be ready.\n",
              "    let fileData = yield {\n",
              "      promise: fileDataPromise,\n",
              "      response: {\n",
              "        action: 'continue',\n",
              "      }\n",
              "    };\n",
              "\n",
              "    // Use a chunked sending to avoid message size limits. See b/62115660.\n",
              "    let position = 0;\n",
              "    do {\n",
              "      const length = Math.min(fileData.byteLength - position, MAX_PAYLOAD_SIZE);\n",
              "      const chunk = new Uint8Array(fileData, position, length);\n",
              "      position += length;\n",
              "\n",
              "      const base64 = btoa(String.fromCharCode.apply(null, chunk));\n",
              "      yield {\n",
              "        response: {\n",
              "          action: 'append',\n",
              "          file: file.name,\n",
              "          data: base64,\n",
              "        },\n",
              "      };\n",
              "\n",
              "      let percentDone = fileData.byteLength === 0 ?\n",
              "          100 :\n",
              "          Math.round((position / fileData.byteLength) * 100);\n",
              "      percent.textContent = `${percentDone}% done`;\n",
              "\n",
              "    } while (position < fileData.byteLength);\n",
              "  }\n",
              "\n",
              "  // All done.\n",
              "  yield {\n",
              "    response: {\n",
              "      action: 'complete',\n",
              "    }\n",
              "  };\n",
              "}\n",
              "\n",
              "scope.google = scope.google || {};\n",
              "scope.google.colab = scope.google.colab || {};\n",
              "scope.google.colab._files = {\n",
              "  _uploadFiles,\n",
              "  _uploadFilesContinue,\n",
              "};\n",
              "})(self);\n",
              "</script> "
            ]
          },
          "metadata": {}
        },
        {
          "output_type": "stream",
          "name": "stdout",
          "text": [
            "Saving kaggle.json to kaggle.json\n"
          ]
        },
        {
          "output_type": "execute_result",
          "data": {
            "text/plain": [
              "{'kaggle.json': b'{\"username\":\"rithikaarthanari\",\"key\":\"1051da33cd88a524200171ac2efdc32e\"}'}"
            ]
          },
          "metadata": {},
          "execution_count": 5
        }
      ]
    },
    {
      "cell_type": "code",
      "source": [
        "! cp kaggle.json ~/.kaggle/"
      ],
      "metadata": {
        "id": "OmybNQfXw6WK"
      },
      "execution_count": null,
      "outputs": []
    },
    {
      "cell_type": "code",
      "source": [
        "! chmod 600 ~/.kaggle/kaggle.json"
      ],
      "metadata": {
        "id": "SZ04CCsBv0nZ"
      },
      "execution_count": null,
      "outputs": []
    },
    {
      "cell_type": "code",
      "source": [
        "! kaggle datasets download -d akash2907/bird-species-classification"
      ],
      "metadata": {
        "colab": {
          "base_uri": "https://localhost:8080/"
        },
        "id": "bzhWUXNbv0dv",
        "outputId": "b8502bbd-1f4d-4f69-8b7f-546ead4fa0de"
      },
      "execution_count": null,
      "outputs": [
        {
          "output_type": "stream",
          "name": "stdout",
          "text": [
            "Downloading bird-species-classification.zip to /content\n",
            "100% 1.37G/1.37G [00:50<00:00, 29.5MB/s]\n",
            "100% 1.37G/1.37G [00:50<00:00, 29.4MB/s]\n"
          ]
        }
      ]
    },
    {
      "cell_type": "code",
      "source": [
        "\n",
        "!unzip /content/bird-species-classification.zip"
      ],
      "metadata": {
        "colab": {
          "base_uri": "https://localhost:8080/"
        },
        "id": "AD7T-SrHxT1L",
        "outputId": "d5f595e0-0c7f-4bee-9615-87af37487141"
      },
      "execution_count": null,
      "outputs": [
        {
          "output_type": "stream",
          "name": "stdout",
          "text": [
            "Archive:  /content/bird-species-classification.zip\n",
            "  inflating: test_data/test_data/blasti/DSC_6396.jpg  \n",
            "  inflating: test_data/test_data/blasti/DSC_6397.jpg  \n",
            "  inflating: test_data/test_data/blasti/DSC_6398.jpg  \n",
            "  inflating: test_data/test_data/blasti/DSC_6399.jpg  \n",
            "  inflating: test_data/test_data/blasti/DSC_6400.jpg  \n",
            "  inflating: test_data/test_data/blasti/DSC_6401.jpg  \n",
            "  inflating: test_data/test_data/blasti/DSC_6402.jpg  \n",
            "  inflating: test_data/test_data/blasti/DSC_6403.jpg  \n",
            "  inflating: test_data/test_data/blasti/DSC_6405.jpg  \n",
            "  inflating: test_data/test_data/blasti/DSC_6406.jpg  \n",
            "  inflating: test_data/test_data/blasti/DSC_6407.jpg  \n",
            "  inflating: test_data/test_data/blasti/DSC_6408.jpg  \n",
            "  inflating: test_data/test_data/blasti/DSC_6409.jpg  \n",
            "  inflating: test_data/test_data/blasti/DSC_6410.jpg  \n",
            "  inflating: test_data/test_data/blasti/DSC_6411.jpg  \n",
            "  inflating: test_data/test_data/bonegl/DSC_4587.jpg  \n",
            "  inflating: test_data/test_data/bonegl/DSC_4588.jpg  \n",
            "  inflating: test_data/test_data/bonegl/DSC_4589.jpg  \n",
            "  inflating: test_data/test_data/bonegl/DSC_4590.jpg  \n",
            "  inflating: test_data/test_data/bonegl/DSC_4591.jpg  \n",
            "  inflating: test_data/test_data/bonegl/DSC_4592.jpg  \n",
            "  inflating: test_data/test_data/bonegl/DSC_4593.jpg  \n",
            "  inflating: test_data/test_data/brhkyt/D72_0473.jpg  \n",
            "  inflating: test_data/test_data/brhkyt/D72_0474.jpg  \n",
            "  inflating: test_data/test_data/brhkyt/D72_0475.jpg  \n",
            "  inflating: test_data/test_data/brhkyt/D72_0477.jpg  \n",
            "  inflating: test_data/test_data/brhkyt/D72_0478.jpg  \n",
            "  inflating: test_data/test_data/brhkyt/D72_0479.jpg  \n",
            "  inflating: test_data/test_data/cbrtsh/_D32_10310.jpg  \n",
            "  inflating: test_data/test_data/cbrtsh/_D32_10311.jpg  \n",
            "  inflating: test_data/test_data/cbrtsh/_D32_10312.jpg  \n",
            "  inflating: test_data/test_data/cbrtsh/_D32_10313.jpg  \n",
            "  inflating: test_data/test_data/cbrtsh/_D32_10314.jpg  \n",
            "  inflating: test_data/test_data/cbrtsh/_D32_10317.jpg  \n",
            "  inflating: test_data/test_data/cbrtsh/_D32_10318.jpg  \n",
            "  inflating: test_data/test_data/cmnmyn/DSC_2443.jpg  \n",
            "  inflating: test_data/test_data/cmnmyn/DSC_4681.jpg  \n",
            "  inflating: test_data/test_data/cmnmyn/DSC_5137.jpg  \n",
            "  inflating: test_data/test_data/cmnmyn/DSC_7625.jpg  \n",
            "  inflating: test_data/test_data/cmnmyn/P1050277.jpg  \n",
            "  inflating: test_data/test_data/cmnmyn/_D32_12426.jpg  \n",
            "  inflating: test_data/test_data/cmnmyn/_D32_12427.jpg  \n",
            "  inflating: test_data/test_data/cmnmyn/_D32_12428.jpg  \n",
            "  inflating: test_data/test_data/gretit/11620454726_31a35c26da_o.jpg  \n",
            "  inflating: test_data/test_data/gretit/11776135285_ccf938fa2e_o.jpg  \n",
            "  inflating: test_data/test_data/gretit/11905645146_6a5d4ff9f9_o.jpg  \n",
            "  inflating: test_data/test_data/gretit/8537646712_0b282c4c6a_o.jpg  \n",
            "  inflating: test_data/test_data/gretit/D72_0693.jpg  \n",
            "  inflating: test_data/test_data/gretit/D72_0694.jpg  \n",
            "  inflating: test_data/test_data/gretit/D72_0695.jpg  \n",
            "  inflating: test_data/test_data/hilpig/DSC_6359.jpg  \n",
            "  inflating: test_data/test_data/hilpig/DSC_6362.jpg  \n",
            "  inflating: test_data/test_data/hilpig/DSC_6364.jpg  \n",
            "  inflating: test_data/test_data/hilpig/DSC_6368.jpg  \n",
            "  inflating: test_data/test_data/hilpig/DSC_6403.jpg  \n",
            "  inflating: test_data/test_data/hilpig/DSC_6404.jpg  \n",
            "  inflating: test_data/test_data/hilpig/P1000319.jpg  \n",
            "  inflating: test_data/test_data/hilpig/P1000323.jpg  \n",
            "  inflating: test_data/test_data/hilpig/P1050044.jpg  \n",
            "  inflating: test_data/test_data/hilpig/P1050045.jpg  \n",
            "  inflating: test_data/test_data/himbul/11602064885_3826df4500_o.jpg  \n",
            "  inflating: test_data/test_data/himbul/11619942574_42f23a7b05_o.jpg  \n",
            "  inflating: test_data/test_data/himbul/11620097904_33fa8ee878_o.jpg  \n",
            "  inflating: test_data/test_data/himbul/5857371972_ed4f88b275_o.jpg  \n",
            "  inflating: test_data/test_data/himbul/6154954471_eefe6e00d1_o.jpg  \n",
            "  inflating: test_data/test_data/himbul/D72_0688.jpg  \n",
            "  inflating: test_data/test_data/himbul/D72_0691.jpg  \n",
            "  inflating: test_data/test_data/himbul/DSC08357.jpg  \n",
            "  inflating: test_data/test_data/himbul/DSC_3230.jpg  \n",
            "  inflating: test_data/test_data/himbul/DSC_7439.jpg  \n",
            "  inflating: test_data/test_data/himbul/DSC_7602.jpg  \n",
            "  inflating: test_data/test_data/himbul/P1060368.jpg  \n",
            "  inflating: test_data/test_data/himbul/P1060369.jpg  \n",
            "  inflating: test_data/test_data/himbul/_D32_10242.jpg  \n",
            "  inflating: test_data/test_data/himbul/_D32_10245.jpg  \n",
            "  inflating: test_data/test_data/himbul/_D32_10251.jpg  \n",
            "  inflating: test_data/test_data/himbul/_D32_10319.jpg  \n",
            "  inflating: test_data/test_data/himbul/_D32_10320.jpg  \n",
            "  inflating: test_data/test_data/himbul/_DSC9446.jpg  \n",
            "  inflating: test_data/test_data/himgri/IMG_5384.JPG  \n",
            "  inflating: test_data/test_data/himgri/IMG_5385.JPG  \n",
            "  inflating: test_data/test_data/himgri/IMG_5386.JPG  \n",
            "  inflating: test_data/test_data/himgri/IMG_5387.JPG  \n",
            "  inflating: test_data/test_data/himgri/IMG_5459.JPG  \n",
            "  inflating: test_data/test_data/himgri/IMG_5460.JPG  \n",
            "  inflating: test_data/test_data/himgri/IMG_5487.JPG  \n",
            "  inflating: test_data/test_data/himgri/IMG_5488.JPG  \n",
            "  inflating: test_data/test_data/himgri/IMG_5489.JPG  \n",
            "  inflating: test_data/test_data/himgri/IMG_5490.JPG  \n",
            "  inflating: test_data/test_data/himgri/IMG_5491.JPG  \n",
            "  inflating: test_data/test_data/himgri/IMG_5492.JPG  \n",
            "  inflating: test_data/test_data/himgri/P1020742.jpg  \n",
            "  inflating: test_data/test_data/himgri/P1020743.jpg  \n",
            "  inflating: test_data/test_data/himgri/P1020746.jpg  \n",
            "  inflating: test_data/test_data/himgri/P1020748.jpg  \n",
            "  inflating: test_data/test_data/himgri/P1030055.jpg  \n",
            "  inflating: test_data/test_data/himgri/P1060776.jpg  \n",
            "  inflating: test_data/test_data/himgri/P1060777.jpg  \n",
            "  inflating: test_data/test_data/himgri/P1060778.jpg  \n",
            "  inflating: test_data/test_data/hsparo/100_5573.JPG  \n",
            "  inflating: test_data/test_data/hsparo/100_5585.JPG  \n",
            "  inflating: test_data/test_data/hsparo/100_5586.JPG  \n",
            "  inflating: test_data/test_data/hsparo/100_5742.JPG  \n",
            "  inflating: test_data/test_data/hsparo/12265273154_48e0fefd42_o.jpg  \n",
            "  inflating: test_data/test_data/hsparo/DSC_4521.jpg  \n",
            "  inflating: test_data/test_data/hsparo/DSC_7619.jpg  \n",
            "  inflating: test_data/test_data/hsparo/_DSC_11244.jpg  \n",
            "  inflating: test_data/test_data/hsparo/_DSC_11246.jpg  \n",
            "  inflating: test_data/test_data/indvul/DSC_1263.jpg  \n",
            "  inflating: test_data/test_data/indvul/DSC_1273.jpg  \n",
            "  inflating: test_data/test_data/indvul/DSC_1274.jpg  \n",
            "  inflating: test_data/test_data/indvul/DSC_1275.jpg  \n",
            "  inflating: test_data/test_data/indvul/DSC_1277.jpg  \n",
            "  inflating: test_data/test_data/indvul/_DSC8754.jpg  \n",
            "  inflating: test_data/test_data/indvul/_DSC9520.jpg  \n",
            "  inflating: test_data/test_data/indvul/_DSC9521.jpg  \n",
            "  inflating: test_data/test_data/indvul/_DSC9523.jpg  \n",
            "  inflating: test_data/test_data/jglowl/_D32_10584.jpg  \n",
            "  inflating: test_data/test_data/jglowl/_D32_10587.jpg  \n",
            "  inflating: test_data/test_data/jglowl/_D32_10593.jpg  \n",
            "  inflating: test_data/test_data/jglowl/_D32_13515.jpg  \n",
            "  inflating: test_data/test_data/jglowl/_D32_13516.jpg  \n",
            "  inflating: test_data/test_data/jglowl/_D32_13517.jpg  \n",
            "  inflating: test_data/test_data/lbicrw/100_4917.JPG  \n",
            "  inflating: test_data/test_data/lbicrw/IMG_5538.JPG  \n",
            "  inflating: test_data/test_data/lbicrw/IMG_5541.JPG  \n",
            "  inflating: test_data/test_data/lbicrw/IMG_5543.JPG  \n",
            "  inflating: test_data/test_data/lbicrw/IMG_5544.JPG  \n",
            "  inflating: test_data/test_data/lbicrw/P1030030.jpg  \n",
            "  inflating: test_data/test_data/mgprob/100_5811.JPG  \n",
            "  inflating: test_data/test_data/mgprob/100_5812.JPG  \n",
            "  inflating: test_data/test_data/mgprob/100_5813.JPG  \n",
            "  inflating: test_data/test_data/mgprob/DSC_3233.jpg  \n",
            "  inflating: test_data/test_data/mgprob/_DSC0085.jpg  \n",
            "  inflating: test_data/test_data/mgprob/_DSC0133.jpg  \n",
            "  inflating: test_data/test_data/mgprob/_DSC0135.jpg  \n",
            "  inflating: test_data/test_data/rebimg/100_5756.JPG  \n",
            "  inflating: test_data/test_data/rebimg/100_5757.JPG  \n",
            "  inflating: test_data/test_data/rebimg/100_5758.JPG  \n",
            "  inflating: test_data/test_data/rebimg/100_5759.JPG  \n",
            "  inflating: test_data/test_data/rebimg/100_5760.JPG  \n",
            "  inflating: test_data/test_data/rebimg/13009302395_5d88a9d62b_o.jpg  \n",
            "  inflating: test_data/test_data/rebimg/13009315305_f1cbfb6767_o.jpg  \n",
            "  inflating: test_data/test_data/rebimg/13009451823_8eb502581f_o.jpg  \n",
            "  inflating: test_data/test_data/rebimg/DSC_7148.jpg  \n",
            "  inflating: test_data/test_data/rebimg/IMG_5251.JPG  \n",
            "  inflating: test_data/test_data/rebimg/IMG_5252.JPG  \n",
            "  inflating: test_data/test_data/wcrsrt/100_4462.JPG  \n",
            "  inflating: test_data/test_data/wcrsrt/100_4463.JPG  \n",
            "  inflating: test_data/test_data/wcrsrt/100_4464.JPG  \n",
            "  inflating: test_data/test_data/wcrsrt/100_4466.JPG  \n",
            "  inflating: test_data/test_data/wcrsrt/100_4467.JPG  \n",
            "  inflating: test_data/test_data/wcrsrt/100_4468.JPG  \n",
            "  inflating: test_data/test_data/wcrsrt/100_5103.JPG  \n",
            "  inflating: test_data/test_data/wcrsrt/100_5105.JPG  \n",
            "  inflating: test_data/test_data/wcrsrt/11382677585_ef6570a041_o.jpg  \n",
            "  inflating: test_data/test_data/wcrsrt/11382746854_7ce73793b3_o.jpg  \n",
            "  inflating: train_data/train_data/blasti/DSC_6382.jpg  \n",
            "  inflating: train_data/train_data/blasti/DSC_6383.jpg  \n",
            "  inflating: train_data/train_data/blasti/DSC_6384-2.jpg  \n",
            "  inflating: train_data/train_data/blasti/DSC_6384.jpg  \n",
            "  inflating: train_data/train_data/blasti/DSC_6385.jpg  \n",
            "  inflating: train_data/train_data/blasti/DSC_6386.jpg  \n",
            "  inflating: train_data/train_data/blasti/DSC_6387.jpg  \n",
            "  inflating: train_data/train_data/blasti/DSC_6388.jpg  \n",
            "  inflating: train_data/train_data/blasti/DSC_6389.jpg  \n",
            "  inflating: train_data/train_data/blasti/DSC_6390.jpg  \n",
            "  inflating: train_data/train_data/blasti/DSC_6391.jpg  \n",
            "  inflating: train_data/train_data/blasti/DSC_6392.jpg  \n",
            "  inflating: train_data/train_data/blasti/DSC_6393.jpg  \n",
            "  inflating: train_data/train_data/blasti/DSC_6394.jpg  \n",
            "  inflating: train_data/train_data/blasti/DSC_6395.jpg  \n",
            "  inflating: train_data/train_data/bonegl/DSC_4570.jpg  \n",
            "  inflating: train_data/train_data/bonegl/DSC_4571.jpg  \n",
            "  inflating: train_data/train_data/bonegl/DSC_4583.jpg  \n",
            "  inflating: train_data/train_data/bonegl/DSC_4584.jpg  \n",
            "  inflating: train_data/train_data/bonegl/DSC_4585.jpg  \n",
            "  inflating: train_data/train_data/bonegl/DSC_4586.jpg  \n",
            "  inflating: train_data/train_data/brhkyt/D72_0400.jpg  \n",
            "  inflating: train_data/train_data/brhkyt/D72_0401.jpg  \n",
            "  inflating: train_data/train_data/brhkyt/D72_0470.jpg  \n",
            "  inflating: train_data/train_data/brhkyt/D72_0471.jpg  \n",
            "  inflating: train_data/train_data/brhkyt/D72_0472.jpg  \n",
            "  inflating: train_data/train_data/cbrtsh/100_5097.JPG  \n",
            "  inflating: train_data/train_data/cbrtsh/_D32_10303.jpg  \n",
            "  inflating: train_data/train_data/cbrtsh/_D32_10305.jpg  \n",
            "  inflating: train_data/train_data/cbrtsh/_D32_10306.jpg  \n",
            "  inflating: train_data/train_data/cbrtsh/_D32_10307.jpg  \n",
            "  inflating: train_data/train_data/cbrtsh/_D32_10308.jpg  \n",
            "  inflating: train_data/train_data/cbrtsh/_D32_10309.jpg  \n",
            "  inflating: train_data/train_data/cmnmyn/100_5763.JPG  \n",
            "  inflating: train_data/train_data/cmnmyn/5866682091_870ccc946c_o.jpg  \n",
            "  inflating: train_data/train_data/cmnmyn/6154956165_64266b8b53_o.jpg  \n",
            "  inflating: train_data/train_data/cmnmyn/DSCN5784.jpg  \n",
            "  inflating: train_data/train_data/cmnmyn/DSCN5787.jpg  \n",
            "  inflating: train_data/train_data/cmnmyn/DSCN5790.jpg  \n",
            "  inflating: train_data/train_data/cmnmyn/DSCN5791.jpg  \n",
            "  inflating: train_data/train_data/gretit/100_5042.JPG  \n",
            "  inflating: train_data/train_data/gretit/100_5043.JPG  \n",
            "  inflating: train_data/train_data/gretit/100_5044.JPG  \n",
            "  inflating: train_data/train_data/gretit/100_5045.JPG  \n",
            "  inflating: train_data/train_data/gretit/100_5046.JPG  \n",
            "  inflating: train_data/train_data/gretit/100_5047.JPG  \n",
            "  inflating: train_data/train_data/hilpig/DSC_6272.jpg  \n",
            "  inflating: train_data/train_data/hilpig/DSC_6273.jpg  \n",
            "  inflating: train_data/train_data/hilpig/DSC_6274.jpg  \n",
            "  inflating: train_data/train_data/hilpig/DSC_6275.jpg  \n",
            "  inflating: train_data/train_data/hilpig/DSC_6350.jpg  \n",
            "  inflating: train_data/train_data/hilpig/DSC_6351.jpg  \n",
            "  inflating: train_data/train_data/hilpig/DSC_6352.jpg  \n",
            "  inflating: train_data/train_data/hilpig/DSC_6353.jpg  \n",
            "  inflating: train_data/train_data/hilpig/DSC_6354.jpg  \n",
            "  inflating: train_data/train_data/hilpig/DSC_6358.jpg  \n",
            "  inflating: train_data/train_data/himbul/100_5028.JPG  \n",
            "  inflating: train_data/train_data/himbul/100_5029.JPG  \n",
            "  inflating: train_data/train_data/himbul/100_5096.JPG  \n",
            "  inflating: train_data/train_data/himbul/100_5099.JPG  \n",
            "  inflating: train_data/train_data/himbul/100_5100.JPG  \n",
            "  inflating: train_data/train_data/himbul/100_5102.JPG  \n",
            "  inflating: train_data/train_data/himbul/100_5110.JPG  \n",
            "  inflating: train_data/train_data/himbul/100_5112.JPG  \n",
            "  inflating: train_data/train_data/himbul/100_5113.JPG  \n",
            "  inflating: train_data/train_data/himbul/100_5159.JPG  \n",
            "  inflating: train_data/train_data/himbul/100_5160.JPG  \n",
            "  inflating: train_data/train_data/himbul/100_5161.JPG  \n",
            "  inflating: train_data/train_data/himbul/100_5162.JPG  \n",
            "  inflating: train_data/train_data/himbul/10774570945_9bc537c255_o.jpg  \n",
            "  inflating: train_data/train_data/himbul/11383838134_96e891a316_o.jpg  \n",
            "  inflating: train_data/train_data/himbul/11383857084_cdd7514746_o.jpg  \n",
            "  inflating: train_data/train_data/himbul/11387473723_464965720a_o.jpg  \n",
            "  inflating: train_data/train_data/himbul/9007817678_24db19fc63_o.jpg  \n",
            "  inflating: train_data/train_data/himgri/12029790563_2fe54a68aa_o.jpg  \n",
            "  inflating: train_data/train_data/himgri/12029822653_1185544e7b_o.jpg  \n",
            "  inflating: train_data/train_data/himgri/12029933015_802428e277_o.jpg  \n",
            "  inflating: train_data/train_data/himgri/12029987304_031b7a2d53_o.jpg  \n",
            "  inflating: train_data/train_data/himgri/12030165813_f5341e8ed0_o.jpg  \n",
            "  inflating: train_data/train_data/himgri/12030221124_1baaf905d1_o.jpg  \n",
            "  inflating: train_data/train_data/himgri/12030269234_1c3f5a8e8c_o.jpg  \n",
            "  inflating: train_data/train_data/himgri/12152037683_13e1556c41_o.jpg  \n",
            "  inflating: train_data/train_data/himgri/12152178844_dc29e3126f_o.jpg  \n",
            "  inflating: train_data/train_data/himgri/12152510436_23b62fed3b_o.jpg  \n",
            "  inflating: train_data/train_data/himgri/12265055185_138e3c7c70_o.jpg  \n",
            "  inflating: train_data/train_data/himgri/12265498144_d2e80faa3b_o.jpg  \n",
            "  inflating: train_data/train_data/himgri/12265561764_4814951031_o.jpg  \n",
            "  inflating: train_data/train_data/himgri/12265582724_61cb64e73a_o.jpg  \n",
            "  inflating: train_data/train_data/himgri/12265738206_2b9b25cc8a_o.jpg  \n",
            "  inflating: train_data/train_data/himgri/12265747116_d4b4fa3741_o.jpg  \n",
            "  inflating: train_data/train_data/himgri/12266053036_fcab92d8e8_o.jpg  \n",
            "  inflating: train_data/train_data/himgri/12266077576_1d7143aaf7_o.jpg  \n",
            "  inflating: train_data/train_data/himgri/12266086526_82cd337667_o.jpg  \n",
            "  inflating: train_data/train_data/himgri/IMG_5463.JPG  \n",
            "  inflating: train_data/train_data/hsparo/100_4757.JPG  \n",
            "  inflating: train_data/train_data/hsparo/100_4758.JPG  \n",
            "  inflating: train_data/train_data/hsparo/100_5039.JPG  \n",
            "  inflating: train_data/train_data/hsparo/100_5040.JPG  \n",
            "  inflating: train_data/train_data/hsparo/100_5041.JPG  \n",
            "  inflating: train_data/train_data/hsparo/100_5048.JPG  \n",
            "  inflating: train_data/train_data/hsparo/100_5049.JPG  \n",
            "  inflating: train_data/train_data/hsparo/100_5050.JPG  \n",
            "  inflating: train_data/train_data/hsparo/100_5572.JPG  \n",
            "  inflating: train_data/train_data/indvul/DSC_0502.jpg  \n",
            "  inflating: train_data/train_data/indvul/DSC_0571e.jpg  \n",
            "  inflating: train_data/train_data/indvul/DSC_0572.jpg  \n",
            "  inflating: train_data/train_data/indvul/DSC_0576e.jpg  \n",
            "  inflating: train_data/train_data/indvul/DSC_0582.jpg  \n",
            "  inflating: train_data/train_data/indvul/DSC_0583e.jpg  \n",
            "  inflating: train_data/train_data/indvul/DSC_0584.jpg  \n",
            "  inflating: train_data/train_data/indvul/DSC_0616c.jpg  \n",
            "  inflating: train_data/train_data/indvul/DSC_0617.jpg  \n",
            "  inflating: train_data/train_data/jglowl/12152151476_7a1524aabb_o.jpg  \n",
            "  inflating: train_data/train_data/jglowl/DSC01335.jpg  \n",
            "  inflating: train_data/train_data/jglowl/DSC01336.jpg  \n",
            "  inflating: train_data/train_data/jglowl/_D32_10285.jpg  \n",
            "  inflating: train_data/train_data/jglowl/_D32_10578.jpg  \n",
            "  inflating: train_data/train_data/jglowl/_D32_10583.jpg  \n",
            "  inflating: train_data/train_data/lbicrw/100_4037.JPG  \n",
            "  inflating: train_data/train_data/lbicrw/100_4912.JPG  \n",
            "  inflating: train_data/train_data/lbicrw/100_4913.JPG  \n",
            "  inflating: train_data/train_data/lbicrw/100_4914.JPG  \n",
            "  inflating: train_data/train_data/lbicrw/100_4915.JPG  \n",
            "  inflating: train_data/train_data/lbicrw/100_4916.JPG  \n",
            "  inflating: train_data/train_data/mgprob/100_5587.JPG  \n",
            "  inflating: train_data/train_data/mgprob/100_5588.JPG  \n",
            "  inflating: train_data/train_data/mgprob/100_5589.JPG  \n",
            "  inflating: train_data/train_data/mgprob/100_5590.JPG  \n",
            "  inflating: train_data/train_data/mgprob/100_5592.JPG  \n",
            "  inflating: train_data/train_data/mgprob/100_5762.JPG  \n",
            "  inflating: train_data/train_data/rebimg/100_5744.JPG  \n",
            "  inflating: train_data/train_data/rebimg/100_5745.JPG  \n",
            "  inflating: train_data/train_data/rebimg/100_5746.JPG  \n",
            "  inflating: train_data/train_data/rebimg/100_5748.JPG  \n",
            "  inflating: train_data/train_data/rebimg/100_5749.JPG  \n",
            "  inflating: train_data/train_data/rebimg/100_5750.JPG  \n",
            "  inflating: train_data/train_data/rebimg/100_5751.JPG  \n",
            "  inflating: train_data/train_data/rebimg/100_5752.JPG  \n",
            "  inflating: train_data/train_data/rebimg/100_5754.JPG  \n",
            "  inflating: train_data/train_data/rebimg/100_5755.JPG  \n",
            "  inflating: train_data/train_data/wcrsrt/100_4452.JPG  \n",
            "  inflating: train_data/train_data/wcrsrt/100_4453.JPG  \n",
            "  inflating: train_data/train_data/wcrsrt/100_4454.JPG  \n",
            "  inflating: train_data/train_data/wcrsrt/100_4455.JPG  \n",
            "  inflating: train_data/train_data/wcrsrt/100_4456.JPG  \n",
            "  inflating: train_data/train_data/wcrsrt/100_4457.JPG  \n",
            "  inflating: train_data/train_data/wcrsrt/100_4458.JPG  \n",
            "  inflating: train_data/train_data/wcrsrt/100_4459.JPG  \n",
            "  inflating: train_data/train_data/wcrsrt/100_4460.JPG  \n",
            "  inflating: train_data/train_data/wcrsrt/100_4461.JPG  \n"
          ]
        }
      ]
    },
    {
      "cell_type": "markdown",
      "source": [
        "# ***DATA AUGMENTATION***"
      ],
      "metadata": {
        "id": "ySDxyDzeys7d"
      }
    },
    {
      "cell_type": "code",
      "source": [
        "from tensorflow.keras.preprocessing.image import ImageDataGenerator"
      ],
      "metadata": {
        "id": "2vSE-hfFxoCf"
      },
      "execution_count": null,
      "outputs": []
    },
    {
      "cell_type": "code",
      "source": [
        "train_gen = ImageDataGenerator(rescale=(1./255),horizontal_flip=True,shear_range=0.2)\n",
        "test_gen = ImageDataGenerator(rescale=(1./255))\n"
      ],
      "metadata": {
        "id": "kgNwrQTjri6g"
      },
      "execution_count": null,
      "outputs": []
    },
    {
      "cell_type": "code",
      "source": [
        "train = train_gen.flow_from_directory('/content/train_data/train_data',\n",
        "                                      target_size=(120, 120),\n",
        "                                      class_mode='categorical',\n",
        "                                      batch_size=8)\n",
        "test = test_gen.flow_from_directory('/content/test_data/test_data',\n",
        "                                    target_size=(120, 120),\n",
        "                                      class_mode='categorical',\n",
        "                                      batch_size=8)"
      ],
      "metadata": {
        "colab": {
          "base_uri": "https://localhost:8080/"
        },
        "id": "dzvcZNQarqw7",
        "outputId": "31d17868-9e63-4f98-bd64-3e05aba8b559"
      },
      "execution_count": null,
      "outputs": [
        {
          "output_type": "stream",
          "name": "stdout",
          "text": [
            "Found 150 images belonging to 16 classes.\n",
            "Found 157 images belonging to 16 classes.\n"
          ]
        }
      ]
    },
    {
      "cell_type": "code",
      "source": [
        "train.class_indices"
      ],
      "metadata": {
        "colab": {
          "base_uri": "https://localhost:8080/"
        },
        "id": "xAmt8ZZOrrhk",
        "outputId": "dcaf6ec1-42d0-4d53-afe4-4a6f55bd4325"
      },
      "execution_count": null,
      "outputs": [
        {
          "output_type": "execute_result",
          "data": {
            "text/plain": [
              "{'blasti': 0,\n",
              " 'bonegl': 1,\n",
              " 'brhkyt': 2,\n",
              " 'cbrtsh': 3,\n",
              " 'cmnmyn': 4,\n",
              " 'gretit': 5,\n",
              " 'hilpig': 6,\n",
              " 'himbul': 7,\n",
              " 'himgri': 8,\n",
              " 'hsparo': 9,\n",
              " 'indvul': 10,\n",
              " 'jglowl': 11,\n",
              " 'lbicrw': 12,\n",
              " 'mgprob': 13,\n",
              " 'rebimg': 14,\n",
              " 'wcrsrt': 15}"
            ]
          },
          "metadata": {},
          "execution_count": 13
        }
      ]
    },
    {
      "cell_type": "markdown",
      "source": [
        "# ***CNN TRAINING***"
      ],
      "metadata": {
        "id": "r_ktuggty49I"
      }
    },
    {
      "cell_type": "code",
      "source": [
        "from tensorflow.keras.layers import Convolution2D,MaxPooling2D,Flatten,Dense\n",
        "from tensorflow.keras.models import Sequential"
      ],
      "metadata": {
        "id": "kec29K-OrsHB"
      },
      "execution_count": null,
      "outputs": []
    },
    {
      "cell_type": "code",
      "source": [
        "model = Sequential()\n",
        "model.add(Convolution2D(20,(3,3),activation='relu',input_shape=(120, 120, 3)))\n",
        "model.add(MaxPooling2D(pool_size=(2,2)))\n",
        "model.add(Flatten())\n",
        "model.add(Dense(45,activation='relu'))\n",
        "model.add(Dense(16,activation='softmax'))\n"
      ],
      "metadata": {
        "id": "o8Oo-ed3x96f"
      },
      "execution_count": null,
      "outputs": []
    },
    {
      "cell_type": "code",
      "source": [
        "model.compile(optimizer='adam',loss='categorical_crossentropy',metrics=['accuracy'])\n",
        "model.fit(train,batch_size=8,validation_data=test,epochs=10)"
      ],
      "metadata": {
        "id": "122wPAMLr1lS",
        "colab": {
          "base_uri": "https://localhost:8080/"
        },
        "outputId": "ee2824e1-e428-4197-eaf0-00d748f303a0"
      },
      "execution_count": null,
      "outputs": [
        {
          "output_type": "stream",
          "name": "stdout",
          "text": [
            "Epoch 1/10\n",
            "19/19 [==============================] - 133s 7s/step - loss: 4.5692 - accuracy: 0.1000 - val_loss: 2.7878 - val_accuracy: 0.0446\n",
            "Epoch 2/10\n",
            "19/19 [==============================] - 128s 7s/step - loss: 2.6594 - accuracy: 0.1733 - val_loss: 2.7606 - val_accuracy: 0.0637\n",
            "Epoch 3/10\n",
            "19/19 [==============================] - 127s 7s/step - loss: 2.5389 - accuracy: 0.2333 - val_loss: 2.7286 - val_accuracy: 0.0764\n",
            "Epoch 4/10\n",
            "19/19 [==============================] - 105s 6s/step - loss: 2.4127 - accuracy: 0.2467 - val_loss: 2.7833 - val_accuracy: 0.1210\n",
            "Epoch 5/10\n",
            "19/19 [==============================] - 130s 7s/step - loss: 2.2413 - accuracy: 0.2467 - val_loss: 2.8717 - val_accuracy: 0.1338\n",
            "Epoch 6/10\n",
            "19/19 [==============================] - 128s 7s/step - loss: 2.0844 - accuracy: 0.3200 - val_loss: 2.7104 - val_accuracy: 0.1338\n",
            "Epoch 7/10\n",
            "19/19 [==============================] - 128s 7s/step - loss: 1.9463 - accuracy: 0.3600 - val_loss: 2.7870 - val_accuracy: 0.1656\n",
            "Epoch 8/10\n",
            "19/19 [==============================] - 127s 7s/step - loss: 1.8867 - accuracy: 0.3733 - val_loss: 3.0394 - val_accuracy: 0.1465\n",
            "Epoch 9/10\n",
            "19/19 [==============================] - 127s 7s/step - loss: 1.7355 - accuracy: 0.4533 - val_loss: 2.8278 - val_accuracy: 0.1783\n",
            "Epoch 10/10\n",
            "19/19 [==============================] - 127s 7s/step - loss: 1.5431 - accuracy: 0.4933 - val_loss: 2.9399 - val_accuracy: 0.1847\n"
          ]
        },
        {
          "output_type": "execute_result",
          "data": {
            "text/plain": [
              "<keras.callbacks.History at 0x7f2f682e11b0>"
            ]
          },
          "metadata": {},
          "execution_count": 16
        }
      ]
    },
    {
      "cell_type": "code",
      "source": [
        "model.save('BIRD CLASSIFICATION.h5')"
      ],
      "metadata": {
        "id": "DnXq5-rrrsY-"
      },
      "execution_count": null,
      "outputs": []
    },
    {
      "cell_type": "markdown",
      "source": [
        "# ***TESTING***"
      ],
      "metadata": {
        "id": "mwI_bQLty9_H"
      }
    },
    {
      "cell_type": "code",
      "source": [
        "import numpy as np\n",
        "from tensorflow.keras.preprocessing import image\n"
      ],
      "metadata": {
        "id": "5gIMTga9rsnN"
      },
      "execution_count": null,
      "outputs": []
    },
    {
      "cell_type": "code",
      "source": [
        "img = image.load_img('/content/istockphoto-183412466-612x612.jpg',target_size=(120,120))\n",
        "img"
      ],
      "metadata": {
        "id": "ciUXPgPsrszX",
        "colab": {
          "base_uri": "https://localhost:8080/",
          "height": 137
        },
        "outputId": "3c6f437d-de2e-4b5c-b954-3d254fc57311"
      },
      "execution_count": null,
      "outputs": [
        {
          "output_type": "execute_result",
          "data": {
            "text/plain": [
              "<PIL.Image.Image image mode=RGB size=120x120 at 0x7F2F6A474A00>"
            ],
            "image/png": "[encoded data removed]"
          },
          "metadata": {},
          "execution_count": 19
        }
      ]
    },
    {
      "cell_type": "code",
      "source": [
        "img = image.img_to_array(img)\n",
        "img\n"
      ],
      "metadata": {
        "id": "KH-X0Md0rtAh",
        "colab": {
          "base_uri": "https://localhost:8080/"
        },
        "outputId": "4e94b250-abf1-4c64-aa3a-dc0ebb85b91e"
      },
      "execution_count": null,
      "outputs": [
        {
          "output_type": "execute_result",
          "data": {
            "text/plain": [
              "array([[[ 88.,  79.,  64.],\n",
              "        [ 88.,  79.,  64.],\n",
              "        [ 88.,  79.,  64.],\n",
              "        ...,\n",
              "        [126.,  73.,  83.],\n",
              "        [107.,  69.,  58.],\n",
              "        [103.,  69.,  42.]],\n",
              "\n",
              "       [[ 87.,  78.,  63.],\n",
              "        [ 87.,  78.,  63.],\n",
              "        [ 86.,  77.,  62.],\n",
              "        ...,\n",
              "        [176.,  98., 122.],\n",
              "        [133.,  65.,  80.],\n",
              "        [114.,  60.,  58.]],\n",
              "\n",
              "       [[ 86.,  77.,  62.],\n",
              "        [ 86.,  77.,  62.],\n",
              "        [ 85.,  75.,  65.],\n",
              "        ...,\n",
              "        [204., 125., 157.],\n",
              "        [167.,  72., 106.],\n",
              "        [125.,  54.,  72.]],\n",
              "\n",
              "       ...,\n",
              "\n",
              "       [[ 17.,  18.,  20.],\n",
              "        [ 24.,  25.,  27.],\n",
              "        [ 43.,  40.,  31.],\n",
              "        ...,\n",
              "        [107.,  22.,  53.],\n",
              "        [ 91.,  21.,  31.],\n",
              "        [ 80.,  29.,  34.]],\n",
              "\n",
              "       [[ 19.,  21.,  18.],\n",
              "        [ 27.,  29.,  26.],\n",
              "        [ 40.,  40.,  32.],\n",
              "        ...,\n",
              "        [100.,  31.,  36.],\n",
              "        [ 81.,  25.,  26.],\n",
              "        [ 76.,  25.,  30.]],\n",
              "\n",
              "       [[ 22.,  18.,  17.],\n",
              "        [ 26.,  22.,  21.],\n",
              "        [165., 148., 141.],\n",
              "        ...,\n",
              "        [ 76.,  44.,  21.],\n",
              "        [ 70.,  30.,  22.],\n",
              "        [ 82.,  18.,  34.]]], dtype=float32)"
            ]
          },
          "metadata": {},
          "execution_count": 20
        }
      ]
    },
    {
      "cell_type": "code",
      "source": [
        "img = np.expand_dims(img,axis=0)\n",
        "img\n"
      ],
      "metadata": {
        "id": "vPPdNv3NrtJ8",
        "colab": {
          "base_uri": "https://localhost:8080/"
        },
        "outputId": "fcf677d2-e3fe-4d5f-c89b-0369cf9eea42"
      },
      "execution_count": null,
      "outputs": [
        {
          "output_type": "execute_result",
          "data": {
            "text/plain": [
              "array([[[[ 88.,  79.,  64.],\n",
              "         [ 88.,  79.,  64.],\n",
              "         [ 88.,  79.,  64.],\n",
              "         ...,\n",
              "         [126.,  73.,  83.],\n",
              "         [107.,  69.,  58.],\n",
              "         [103.,  69.,  42.]],\n",
              "\n",
              "        [[ 87.,  78.,  63.],\n",
              "         [ 87.,  78.,  63.],\n",
              "         [ 86.,  77.,  62.],\n",
              "         ...,\n",
              "         [176.,  98., 122.],\n",
              "         [133.,  65.,  80.],\n",
              "         [114.,  60.,  58.]],\n",
              "\n",
              "        [[ 86.,  77.,  62.],\n",
              "         [ 86.,  77.,  62.],\n",
              "         [ 85.,  75.,  65.],\n",
              "         ...,\n",
              "         [204., 125., 157.],\n",
              "         [167.,  72., 106.],\n",
              "         [125.,  54.,  72.]],\n",
              "\n",
              "        ...,\n",
              "\n",
              "        [[ 17.,  18.,  20.],\n",
              "         [ 24.,  25.,  27.],\n",
              "         [ 43.,  40.,  31.],\n",
              "         ...,\n",
              "         [107.,  22.,  53.],\n",
              "         [ 91.,  21.,  31.],\n",
              "         [ 80.,  29.,  34.]],\n",
              "\n",
              "        [[ 19.,  21.,  18.],\n",
              "         [ 27.,  29.,  26.],\n",
              "         [ 40.,  40.,  32.],\n",
              "         ...,\n",
              "         [100.,  31.,  36.],\n",
              "         [ 81.,  25.,  26.],\n",
              "         [ 76.,  25.,  30.]],\n",
              "\n",
              "        [[ 22.,  18.,  17.],\n",
              "         [ 26.,  22.,  21.],\n",
              "         [165., 148., 141.],\n",
              "         ...,\n",
              "         [ 76.,  44.,  21.],\n",
              "         [ 70.,  30.,  22.],\n",
              "         [ 82.,  18.,  34.]]]], dtype=float32)"
            ]
          },
          "metadata": {},
          "execution_count": 21
        }
      ]
    },
    {
      "cell_type": "code",
      "source": [
        "model.predict(img)"
      ],
      "metadata": {
        "id": "dddrpl0Krtj2",
        "colab": {
          "base_uri": "https://localhost:8080/"
        },
        "outputId": "baa82873-c81c-43ad-b61b-8f00434f68c8"
      },
      "execution_count": null,
      "outputs": [
        {
          "output_type": "stream",
          "name": "stdout",
          "text": [
            "1/1 [==============================] - 0s 112ms/step\n"
          ]
        },
        {
          "output_type": "execute_result",
          "data": {
            "text/plain": [
              "array([[2.6919680e-30, 0.0000000e+00, 0.0000000e+00, 1.0000000e+00,\n",
              "        0.0000000e+00, 0.0000000e+00, 1.7006507e-20, 0.0000000e+00,\n",
              "        0.0000000e+00, 0.0000000e+00, 0.0000000e+00, 0.0000000e+00,\n",
              "        0.0000000e+00, 0.0000000e+00, 1.7705003e-38, 0.0000000e+00]],\n",
              "      dtype=float32)"
            ]
          },
          "metadata": {},
          "execution_count": 22
        }
      ]
    },
    {
      "cell_type": "code",
      "source": [
        "pred = np.argmax(model.predict(img))"
      ],
      "metadata": {
        "id": "QcjeyPMdsJE5",
        "colab": {
          "base_uri": "https://localhost:8080/"
        },
        "outputId": "8a3fa678-4570-4c9e-ed5d-b1526a0d1c5a"
      },
      "execution_count": null,
      "outputs": [
        {
          "output_type": "stream",
          "name": "stdout",
          "text": [
            "1/1 [==============================] - 0s 38ms/step\n"
          ]
        }
      ]
    },
    {
      "cell_type": "code",
      "source": [
        "import os\n",
        "output = os.listdir('/content/train_data/train_data')\n",
        "output\n"
      ],
      "metadata": {
        "id": "21cd6IP9sJRM",
        "colab": {
          "base_uri": "https://localhost:8080/"
        },
        "outputId": "66ede282-83bc-4f3f-8893-d65477c76c36"
      },
      "execution_count": null,
      "outputs": [
        {
          "output_type": "execute_result",
          "data": {
            "text/plain": [
              "['bonegl',\n",
              " 'indvul',\n",
              " 'cbrtsh',\n",
              " 'rebimg',\n",
              " 'cmnmyn',\n",
              " 'brhkyt',\n",
              " 'gretit',\n",
              " 'jglowl',\n",
              " 'lbicrw',\n",
              " 'himbul',\n",
              " 'mgprob',\n",
              " 'hsparo',\n",
              " 'hilpig',\n",
              " 'blasti',\n",
              " 'wcrsrt',\n",
              " 'himgri']"
            ]
          },
          "metadata": {},
          "execution_count": 24
        }
      ]
    },
    {
      "cell_type": "code",
      "source": [
        "output[pred]\n"
      ],
      "metadata": {
        "id": "ApcjgXftsOYk",
        "colab": {
          "base_uri": "https://localhost:8080/",
          "height": 36
        },
        "outputId": "cc19106d-1e2c-4040-efe2-995342069b43"
      },
      "execution_count": null,
      "outputs": [
        {
          "output_type": "execute_result",
          "data": {
            "text/plain": [
              "'rebimg'"
            ],
            "application/vnd.google.colaboratory.intrinsic+json": {
              "type": "string"
            }
          },
          "metadata": {},
          "execution_count": 25
        }
      ]
    },
    {
      "cell_type": "markdown",
      "source": [
        "# ***MODEL TUNING***"
      ],
      "metadata": {
        "id": "fc9Ks-kNzIhg"
      }
    },
    {
      "cell_type": "code",
      "source": [
        "from tensorflow.keras.layers import BatchNormalization, Dropout\n",
        "\n",
        "\n",
        "# Initializing the seq model\n",
        "model = Sequential()\n",
        "# Adding conv layer with input\n",
        "model.add(Convolution2D(12,(3,3),activation='relu',input_shape=(120, 120, 3)))\n",
        "model.add(MaxPooling2D(pool_size=(2,2)))\n",
        "\n",
        "model.add(Convolution2D(24,(3,3),activation='relu'))\n",
        "model.add(MaxPooling2D(pool_size=(2,2)))\n",
        "model.add(Convolution2D(36,(3,3),activation='relu'))\n",
        "model.add(MaxPooling2D(pool_size=(2,2)))\n",
        "model.add(Flatten())\n",
        "# Normalizing the conv layer output\n",
        "model.add(BatchNormalization())\n",
        "\n",
        "# Hiddern layers\n",
        "model.add(Dense(62,activation='relu'))\n",
        "model.add(Dense(32,activation='relu'))\n",
        "\n",
        "# Output layer\n",
        "model.add(Dense(16,activation='softmax'))\n"
      ],
      "metadata": {
        "id": "fd3abdY4sYLc"
      },
      "execution_count": null,
      "outputs": []
    },
    {
      "cell_type": "code",
      "source": [
        "model.compile(optimizer='adam',loss='categorical_crossentropy',metrics=['accuracy'])\n"
      ],
      "metadata": {
        "id": "LCY14q-JsjDg"
      },
      "execution_count": null,
      "outputs": []
    },
    {
      "cell_type": "code",
      "source": [
        "'''from tensorflow.keras.callbacks import EarlyStopping\n",
        "early_stop = EarlyStopping(monitor='accuracy',patience=8)'''"
      ],
      "metadata": {
        "id": "9hx1NPYz3m4N"
      },
      "execution_count": null,
      "outputs": []
    },
    {
      "cell_type": "code",
      "source": [
        "model.fit(train,batch_size=8,validation_data=test,epochs=50)\n"
      ],
      "metadata": {
        "colab": {
          "base_uri": "https://localhost:8080/"
        },
        "id": "AHV4fW4J5fa2",
        "outputId": "b83eee06-4adc-40d1-ba06-27786cc94dbe"
      },
      "execution_count": null,
      "outputs": [
        {
          "output_type": "stream",
          "name": "stdout",
          "text": [
            "Epoch 1/50\n",
            "19/19 [==============================] - 109s 6s/step - loss: 2.7123 - accuracy: 0.1800 - val_loss: 2.7582 - val_accuracy: 0.0828\n",
            "Epoch 2/50\n",
            "19/19 [==============================] - 127s 7s/step - loss: 2.1061 - accuracy: 0.3733 - val_loss: 2.7615 - val_accuracy: 0.0637\n",
            "Epoch 3/50\n",
            "19/19 [==============================] - 134s 7s/step - loss: 1.5958 - accuracy: 0.4933 - val_loss: 2.7860 - val_accuracy: 0.0510\n",
            "Epoch 4/50\n",
            "19/19 [==============================] - 126s 7s/step - loss: 1.4599 - accuracy: 0.5667 - val_loss: 2.6961 - val_accuracy: 0.1592\n",
            "Epoch 5/50\n",
            "19/19 [==============================] - 103s 6s/step - loss: 1.1983 - accuracy: 0.6467 - val_loss: 2.7267 - val_accuracy: 0.0955\n",
            "Epoch 6/50\n",
            "19/19 [==============================] - 127s 7s/step - loss: 0.9960 - accuracy: 0.6933 - val_loss: 2.7763 - val_accuracy: 0.0828\n",
            "Epoch 7/50\n",
            "19/19 [==============================] - 127s 7s/step - loss: 0.9004 - accuracy: 0.7533 - val_loss: 2.5445 - val_accuracy: 0.1911\n",
            "Epoch 8/50\n",
            "19/19 [==============================] - 127s 7s/step - loss: 0.6143 - accuracy: 0.8200 - val_loss: 2.5799 - val_accuracy: 0.1592\n",
            "Epoch 9/50\n",
            "19/19 [==============================] - 127s 7s/step - loss: 0.5282 - accuracy: 0.8800 - val_loss: 2.6661 - val_accuracy: 0.1529\n",
            "Epoch 10/50\n",
            "19/19 [==============================] - 127s 7s/step - loss: 0.6847 - accuracy: 0.8400 - val_loss: 2.5367 - val_accuracy: 0.1529\n",
            "Epoch 11/50\n",
            "19/19 [==============================] - 127s 7s/step - loss: 0.3727 - accuracy: 0.9067 - val_loss: 2.6091 - val_accuracy: 0.1656\n",
            "Epoch 12/50\n",
            "19/19 [==============================] - 125s 7s/step - loss: 0.2638 - accuracy: 0.9400 - val_loss: 2.4738 - val_accuracy: 0.2102\n",
            "Epoch 13/50\n",
            "19/19 [==============================] - 126s 7s/step - loss: 0.2329 - accuracy: 0.9533 - val_loss: 2.3915 - val_accuracy: 0.2866\n",
            "Epoch 14/50\n",
            "19/19 [==============================] - 126s 7s/step - loss: 0.2615 - accuracy: 0.9467 - val_loss: 2.3797 - val_accuracy: 0.2930\n",
            "Epoch 15/50\n",
            "19/19 [==============================] - 126s 7s/step - loss: 0.1813 - accuracy: 0.9600 - val_loss: 2.4588 - val_accuracy: 0.2803\n",
            "Epoch 16/50\n",
            "19/19 [==============================] - 127s 7s/step - loss: 0.2669 - accuracy: 0.9200 - val_loss: 2.6037 - val_accuracy: 0.2102\n",
            "Epoch 17/50\n",
            "19/19 [==============================] - 126s 7s/step - loss: 0.2696 - accuracy: 0.9067 - val_loss: 2.8328 - val_accuracy: 0.1210\n",
            "Epoch 18/50\n",
            "19/19 [==============================] - 101s 6s/step - loss: 0.2325 - accuracy: 0.9467 - val_loss: 2.5643 - val_accuracy: 0.2420\n",
            "Epoch 19/50\n",
            "19/19 [==============================] - 126s 7s/step - loss: 0.1445 - accuracy: 0.9467 - val_loss: 2.6435 - val_accuracy: 0.1975\n",
            "Epoch 20/50\n",
            "19/19 [==============================] - 125s 7s/step - loss: 0.1290 - accuracy: 0.9600 - val_loss: 2.7291 - val_accuracy: 0.2739\n",
            "Epoch 21/50\n",
            "19/19 [==============================] - 126s 7s/step - loss: 0.0623 - accuracy: 0.9933 - val_loss: 3.1542 - val_accuracy: 0.1847\n",
            "Epoch 22/50\n",
            "19/19 [==============================] - 126s 7s/step - loss: 0.0725 - accuracy: 0.9800 - val_loss: 2.6825 - val_accuracy: 0.3185\n",
            "Epoch 23/50\n",
            "19/19 [==============================] - 126s 7s/step - loss: 0.1915 - accuracy: 0.9467 - val_loss: 2.7133 - val_accuracy: 0.2994\n",
            "Epoch 24/50\n",
            "19/19 [==============================] - 126s 7s/step - loss: 0.1195 - accuracy: 0.9600 - val_loss: 2.9652 - val_accuracy: 0.2930\n",
            "Epoch 25/50\n",
            "19/19 [==============================] - 126s 7s/step - loss: 0.1719 - accuracy: 0.9400 - val_loss: 3.3733 - val_accuracy: 0.2739\n",
            "Epoch 26/50\n",
            "19/19 [==============================] - 127s 7s/step - loss: 0.1759 - accuracy: 0.9533 - val_loss: 3.5222 - val_accuracy: 0.2229\n",
            "Epoch 27/50\n",
            "19/19 [==============================] - 127s 7s/step - loss: 0.1370 - accuracy: 0.9667 - val_loss: 5.0778 - val_accuracy: 0.2548\n",
            "Epoch 28/50\n",
            "19/19 [==============================] - 125s 7s/step - loss: 0.0762 - accuracy: 0.9800 - val_loss: 4.1111 - val_accuracy: 0.2357\n",
            "Epoch 29/50\n",
            "19/19 [==============================] - 126s 7s/step - loss: 0.0943 - accuracy: 0.9733 - val_loss: 3.4135 - val_accuracy: 0.4076\n",
            "Epoch 30/50\n",
            "19/19 [==============================] - 126s 7s/step - loss: 0.1878 - accuracy: 0.9600 - val_loss: 4.1963 - val_accuracy: 0.2866\n",
            "Epoch 31/50\n",
            "19/19 [==============================] - 126s 7s/step - loss: 0.0894 - accuracy: 0.9800 - val_loss: 3.5648 - val_accuracy: 0.3376\n",
            "Epoch 32/50\n",
            "19/19 [==============================] - 101s 6s/step - loss: 0.0374 - accuracy: 0.9933 - val_loss: 5.0167 - val_accuracy: 0.2102\n",
            "Epoch 33/50\n",
            "19/19 [==============================] - 126s 7s/step - loss: 0.0697 - accuracy: 0.9800 - val_loss: 4.6571 - val_accuracy: 0.2357\n",
            "Epoch 34/50\n",
            "19/19 [==============================] - 126s 7s/step - loss: 0.1558 - accuracy: 0.9533 - val_loss: 5.2378 - val_accuracy: 0.2484\n",
            "Epoch 35/50\n",
            "19/19 [==============================] - 126s 7s/step - loss: 0.1035 - accuracy: 0.9800 - val_loss: 6.7406 - val_accuracy: 0.1592\n",
            "Epoch 36/50\n",
            "19/19 [==============================] - 126s 7s/step - loss: 0.1265 - accuracy: 0.9667 - val_loss: 4.5042 - val_accuracy: 0.3121\n",
            "Epoch 37/50\n",
            "19/19 [==============================] - 125s 7s/step - loss: 0.0948 - accuracy: 0.9667 - val_loss: 6.7805 - val_accuracy: 0.2739\n",
            "Epoch 38/50\n",
            "19/19 [==============================] - 127s 7s/step - loss: 0.1947 - accuracy: 0.9533 - val_loss: 7.7423 - val_accuracy: 0.1656\n",
            "Epoch 39/50\n",
            "19/19 [==============================] - 126s 7s/step - loss: 0.0634 - accuracy: 0.9800 - val_loss: 6.4555 - val_accuracy: 0.2229\n",
            "Epoch 40/50\n",
            "19/19 [==============================] - 126s 7s/step - loss: 0.0736 - accuracy: 0.9667 - val_loss: 5.4045 - val_accuracy: 0.2484\n",
            "Epoch 41/50\n",
            "19/19 [==============================] - 126s 7s/step - loss: 0.0591 - accuracy: 0.9800 - val_loss: 10.9934 - val_accuracy: 0.1911\n",
            "Epoch 42/50\n",
            "19/19 [==============================] - 127s 7s/step - loss: 0.0533 - accuracy: 0.9867 - val_loss: 5.5891 - val_accuracy: 0.2611\n",
            "Epoch 43/50\n",
            "19/19 [==============================] - 127s 7s/step - loss: 0.0997 - accuracy: 0.9800 - val_loss: 7.5924 - val_accuracy: 0.1911\n",
            "Epoch 44/50\n",
            "19/19 [==============================] - 126s 7s/step - loss: 0.1618 - accuracy: 0.9467 - val_loss: 7.1816 - val_accuracy: 0.2293\n",
            "Epoch 45/50\n",
            "19/19 [==============================] - 125s 7s/step - loss: 0.2495 - accuracy: 0.9267 - val_loss: 8.7939 - val_accuracy: 0.1656\n",
            "Epoch 46/50\n",
            "19/19 [==============================] - 126s 7s/step - loss: 0.1998 - accuracy: 0.9400 - val_loss: 7.5012 - val_accuracy: 0.1975\n",
            "Epoch 47/50\n",
            "19/19 [==============================] - 125s 7s/step - loss: 0.1418 - accuracy: 0.9667 - val_loss: 8.5957 - val_accuracy: 0.2739\n",
            "Epoch 48/50\n",
            "19/19 [==============================] - 126s 7s/step - loss: 0.2023 - accuracy: 0.9400 - val_loss: 6.9687 - val_accuracy: 0.3057\n",
            "Epoch 49/50\n",
            "19/19 [==============================] - 103s 6s/step - loss: 0.0703 - accuracy: 0.9800 - val_loss: 6.9451 - val_accuracy: 0.2420\n",
            "Epoch 50/50\n",
            "19/19 [==============================] - 126s 7s/step - loss: 0.1448 - accuracy: 0.9667 - val_loss: 11.4598 - val_accuracy: 0.2166\n"
          ]
        },
        {
          "output_type": "execute_result",
          "data": {
            "text/plain": [
              "<keras.callbacks.History at 0x7f2f59151240>"
            ]
          },
          "metadata": {},
          "execution_count": 28
        }
      ]
    },
    {
      "cell_type": "code",
      "source": [
        "img1 = image.load_img('/content/gretitnew.jpg',target_size=(120,120))\n",
        "img1"
      ],
      "metadata": {
        "colab": {
          "base_uri": "https://localhost:8080/",
          "height": 137
        },
        "id": "T_MtcgGb5MOm",
        "outputId": "fee373fb-a3f7-46aa-89cb-efaddb649329"
      },
      "execution_count": null,
      "outputs": [
        {
          "output_type": "execute_result",
          "data": {
            "text/plain": [
              "<PIL.Image.Image image mode=RGB size=120x120 at 0x7F2FFC403190>"
            ],
            "image/png": "[encoded data removed]"
          },
          "metadata": {},
          "execution_count": 29
        }
      ]
    },
    {
      "cell_type": "code",
      "source": [
        "img1 = image.img_to_array(img1)\n",
        "img1 = np.expand_dims(img1,axis=0)\n",
        "pred = np.argmax(model.predict(img1))\n",
        "print(pred)\n",
        "output[pred]"
      ],
      "metadata": {
        "colab": {
          "base_uri": "https://localhost:8080/",
          "height": 72
        },
        "id": "9aAU59sl7MYm",
        "outputId": "e469f56d-5e58-49d3-cff6-8c78cfe763bc"
      },
      "execution_count": null,
      "outputs": [
        {
          "output_type": "stream",
          "name": "stdout",
          "text": [
            "1/1 [==============================] - 0s 141ms/step\n",
            "2\n"
          ]
        },
        {
          "output_type": "execute_result",
          "data": {
            "text/plain": [
              "'cbrtsh'"
            ],
            "application/vnd.google.colaboratory.intrinsic+json": {
              "type": "string"
            }
          },
          "metadata": {},
          "execution_count": 30
        }
      ]
    },
    {
      "cell_type": "code",
      "source": [
        "img1 = image.load_img('/content/istockphoto-183412466-612x612.jpg',target_size=(120,120))\n",
        "img1"
      ],
      "metadata": {
        "colab": {
          "base_uri": "https://localhost:8080/",
          "height": 137
        },
        "id": "FOxZPdIx5lLB",
        "outputId": "76532e54-7a04-4142-b70d-2d9941ad4c5b"
      },
      "execution_count": null,
      "outputs": [
        {
          "output_type": "execute_result",
          "data": {
            "text/plain": [
              "<PIL.Image.Image image mode=RGB size=120x120 at 0x7F2F5A5C8FA0>"
            ],
            "image/png": "[encoded data removed]"
          },
          "metadata": {},
          "execution_count": 31
        }
      ]
    },
    {
      "cell_type": "code",
      "source": [
        "img1 = image.img_to_array(img1)\n",
        "img1 = np.expand_dims(img1,axis=0)\n",
        "pred = np.argmax(model.predict(img1))\n",
        "print(pred)\n",
        "output[pred]"
      ],
      "metadata": {
        "colab": {
          "base_uri": "https://localhost:8080/",
          "height": 72
        },
        "id": "ENYWcBP-aehs",
        "outputId": "4b48a77e-bccc-410d-959f-f0eaac771041"
      },
      "execution_count": null,
      "outputs": [
        {
          "output_type": "stream",
          "name": "stdout",
          "text": [
            "1/1 [==============================] - 0s 37ms/step\n",
            "3\n"
          ]
        },
        {
          "output_type": "execute_result",
          "data": {
            "text/plain": [
              "'rebimg'"
            ],
            "application/vnd.google.colaboratory.intrinsic+json": {
              "type": "string"
            }
          },
          "metadata": {},
          "execution_count": 33
        }
      ]
    }
  ]
}