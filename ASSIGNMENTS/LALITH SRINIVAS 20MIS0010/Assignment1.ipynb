{
  "nbformat": 4,
  "nbformat_minor": 0,
  "metadata": {
    "colab": {
      "provenance": []
    },
    "kernelspec": {
      "name": "python3",
      "display_name": "Python 3"
    },
    "language_info": {
      "name": "python"
    }
  },
  "cells": [
    {
      "cell_type": "code",
      "execution_count": null,
      "metadata": {
        "id": "0nUgcF5NkJgF"
      },
      "outputs": [],
      "source": [
        "import pandas as pd\n",
        "import numpy as np"
      ]
    },
    {
      "cell_type": "code",
      "source": [
        "# Task - 1\n",
        "\n",
        "df = pd.DataFrame(np.random.randint(0,100, size=(4,4)), columns=list(\"abcd\"))\n",
        "print(df)"
      ],
      "metadata": {
        "colab": {
          "base_uri": "https://localhost:8080/"
        },
        "id": "IK22_ePElIXh",
        "outputId": "e4022354-56eb-4d18-f3af-1963ec861be0"
      },
      "execution_count": null,
      "outputs": [
        {
          "output_type": "stream",
          "name": "stdout",
          "text": [
            "    a   b   c   d\n",
            "0  29  61  77  23\n",
            "1  24  55  58  52\n",
            "2   6  70  61  22\n",
            "3  70  39  57  12\n"
          ]
        }
      ]
    },
    {
      "cell_type": "code",
      "source": [
        "# Task - 2\n",
        "\n",
        "df.columns = ['Random value 1', 'Random value 2', 'Random value 3', 'Random value 4']\n",
        "print(df)"
      ],
      "metadata": {
        "colab": {
          "base_uri": "https://localhost:8080/"
        },
        "id": "lnqCrUYxlekX",
        "outputId": "b743798f-b6ec-4bb2-8019-ac8fef20bb4c"
      },
      "execution_count": null,
      "outputs": [
        {
          "output_type": "stream",
          "name": "stdout",
          "text": [
            "   Random value 1  Random value 2  Random value 3  Random value 4\n",
            "0              29              61              77              23\n",
            "1              24              55              58              52\n",
            "2               6              70              61              22\n",
            "3              70              39              57              12\n"
          ]
        }
      ]
    },
    {
      "cell_type": "code",
      "source": [
        "# Task - 3\n",
        "\n",
        "print(df.describe())"
      ],
      "metadata": {
        "colab": {
          "base_uri": "https://localhost:8080/"
        },
        "id": "oZW-x5M1lfUF",
        "outputId": "3596a555-a236-4a70-efd6-03a18f647362"
      },
      "execution_count": null,
      "outputs": [
        {
          "output_type": "stream",
          "name": "stdout",
          "text": [
            "       Random value 1  Random value 2  Random value 3  Random value 4\n",
            "count        4.000000        4.000000        4.000000         4.00000\n",
            "mean        32.250000       56.250000       63.250000        27.25000\n",
            "std         27.035471       13.047988        9.322911        17.23127\n",
            "min          6.000000       39.000000       57.000000        12.00000\n",
            "25%         19.500000       51.000000       57.750000        19.50000\n",
            "50%         26.500000       58.000000       59.500000        22.50000\n",
            "75%         39.250000       63.250000       65.000000        30.25000\n",
            "max         70.000000       70.000000       77.000000        52.00000\n"
          ]
        }
      ]
    },
    {
      "cell_type": "code",
      "source": [
        "# Task - 4\n",
        "\n",
        "print(df.isnull())\n",
        "print()\n",
        "\n",
        "print(df.dtypes)"
      ],
      "metadata": {
        "colab": {
          "base_uri": "https://localhost:8080/"
        },
        "id": "3jdVL5OiljVc",
        "outputId": "d045c714-7b98-4f1e-96ca-2917f931f414"
      },
      "execution_count": null,
      "outputs": [
        {
          "output_type": "stream",
          "name": "stdout",
          "text": [
            "   Random value 1  Random value 2  Random value 3  Random value 4\n",
            "0           False           False           False           False\n",
            "1           False           False           False           False\n",
            "2           False           False           False           False\n",
            "3           False           False           False           False\n",
            "\n",
            "Random value 1    int64\n",
            "Random value 2    int64\n",
            "Random value 3    int64\n",
            "Random value 4    int64\n",
            "dtype: object\n"
          ]
        }
      ]
    },
    {
      "cell_type": "code",
      "source": [
        "# Task 5\n",
        "\n",
        "print(df.loc[:,[\"Random value 2\",\"Random value 3\"]])\n",
        "print()\n",
        "\n",
        "print(df.iloc[:,[1,2]])"
      ],
      "metadata": {
        "colab": {
          "base_uri": "https://localhost:8080/"
        },
        "id": "peeXyEd2lmNM",
        "outputId": "71b07695-7fed-4d77-cb09-3f93dffaba8b"
      },
      "execution_count": null,
      "outputs": [
        {
          "output_type": "stream",
          "name": "stdout",
          "text": [
            "   Random value 2  Random value 3\n",
            "0              61              77\n",
            "1              55              58\n",
            "2              70              61\n",
            "3              39              57\n",
            "\n",
            "   Random value 2  Random value 3\n",
            "0              61              77\n",
            "1              55              58\n",
            "2              70              61\n",
            "3              39              57\n"
          ]
        }
      ]
    }
  ]
}